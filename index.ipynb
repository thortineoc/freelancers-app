{
 "cells": [
  {
   "cell_type": "markdown",
   "metadata": {},
   "source": [
    "Projekt 2020"
   ]
  },
  {
   "cell_type": "markdown",
   "metadata": {},
   "source": [
    "<img src=project/public/images/logo4.png width=\"40%\"/>"
   ]
  },
  {
   "cell_type": "markdown",
   "metadata": {},
   "source": [
    "Katalog Zleceń dla Freelancerów"
   ]
  },
  {
   "cell_type": "markdown",
   "metadata": {},
   "source": [
    "-Zleceniodawca składa ofertę na wykonanie pewnego zadania, przy którym może określić maksymalną cenę, którą jest w stanie zapłacić za jego wykonanie oraz maksymalny czas jego wykonania. \n",
    "\n",
    "-Użytkownicy serwisu mogą składać oferty na wykonanie danego zadania określając cenę, czas wykonania i inne szczegóły swojej oferty.\n",
    "\n",
    "-Zleceniodawca przegląda następnie listę wszystkich ofert i wybiera osoby najbardziej mu odpowiadające np.: dwie/trzy osoby/oferty w wybranej kolejności.\n",
    "\n",
    "-Podczas przeglądania ofert można wykonać porównanie poprzednich ocen wystawionych dla użytkowników składających oferty: dostępne kryteria to np.: czas wykonania zlecenia lub jakość.\n",
    "\n",
    "-Po wybraniu wykonawców pierwsza osoba z listy otrzymuje powiadomienie, w którym musi potwierdzić, że wykona dane zlecenie. W przypadku, kiedy pierwsza osoba nie potwierdzi chęci wykonania zadania powiadomienie zostaje wysłane do kolejnej osoby z listy. Po zakończeniu zlecenia wykonawca jest oceniany przez zleceniodawcę\n"
   ]
  },
  {
   "cell_type": "markdown",
   "metadata": {},
   "source": [
    "Wybierz jeden z linków :\n",
    "\n",
    "01. [lokalna baza danych](index_1.ipynb)\n",
    "02. [globalna baza danych](index_2.ipynb)\n"
   ]
  }
 ],
 "metadata": {
  "kernelspec": {
   "display_name": "Python 3",
   "language": "python",
   "name": "python3"
  },
  "language_info": {
   "codemirror_mode": {
    "name": "ipython",
    "version": 3
   },
   "file_extension": ".py",
   "mimetype": "text/x-python",
   "name": "python",
   "nbconvert_exporter": "python",
   "pygments_lexer": "ipython3",
   "version": "3.8.3"
  }
 },
 "nbformat": 4,
 "nbformat_minor": 4
}
